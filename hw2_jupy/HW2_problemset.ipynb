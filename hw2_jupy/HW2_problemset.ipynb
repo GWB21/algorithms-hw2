{
 "cells": [
  {
   "cell_type": "code",
   "execution_count": 30,
   "id": "0c4eb06a",
   "metadata": {},
   "outputs": [
    {
     "data": {
      "text/plain": [
       "6"
      ]
     },
     "execution_count": 30,
     "metadata": {},
     "output_type": "execute_result"
    }
   ],
   "source": [
    "from graphviz import Digraph\n",
    "\n",
    "'''기존 bstNode 코드를 수정했습니다.'''\n",
    "\n",
    "class BSTNode:\n",
    "    def __init__(self, value, parent):\n",
    "        self.value = value\n",
    "        self.parent = parent                                    #insert, height 계산을 위해서 parent 변수를 추가\n",
    "        self.left = None\n",
    "        self.right = None\n",
    "\n",
    "    def __repr__(self):\n",
    "        return f\"{self.value}\"\n",
    "\n",
    "    '''기존의 insert함수를 수정했습니다. 교수님께서 주신 avl,bst 코드가 조금 더 직관적인것 같아서 그 스타일로 수정했습니다.'''\n",
    "    def insert(self, node):\n",
    "        if node is None:                        #삽입하고 하는 노드가 None이라면 종료\n",
    "            return\n",
    "        else:                                   #아니라면 진행\n",
    "            if node.value < self.value:         #넣고자 하는 값이 self보다 작다면 왼쪽으로.\n",
    "                if self.left is None:           #left가 없다면 left를 자신으로 지정.\n",
    "                    self.left = node            \n",
    "                    node.parent = self          #link 연결\n",
    "                else:                           #left가 있다면, left에 대해서 재귀\n",
    "                    self.left.insert(node)\n",
    "            else:                               #넣고자 하는 값이 self보다 크거나 같다면 오른쪽으로. 이하 동문\n",
    "                if self.right is None:\n",
    "                    self.right = node\n",
    "                    self.right.parent = self\n",
    "                else:\n",
    "                    self.right.insert(node)\n",
    "\n",
    "'''어떻게 height라는 값이 node에 init 되어 있지 않은데 node.height를 쓸 수 있는거지라는 의문이 있었는데, 동적할당이라는게 신기했습니다.'''\n",
    "def update_height(node):\n",
    "    while node is not None:\n",
    "        node.height = max(height(node.left) , height(node.right)) + 1\n",
    "        node = node.parent\n",
    "        \n",
    "def height(node):                       #객체에 동적으로 할당하는..\n",
    "    if node is None:                    #노드가 none이면 -1 반환\n",
    "        return -1\n",
    "    else:                               #아니라면 node.height 반환\n",
    "        return node.height\n",
    "\n",
    "'''BST 또한 수정했습니다.'''\n",
    "class BinarySearchTree:\n",
    "    def __init__(self):\n",
    "        self.root = None\n",
    "\n",
    "    def insert(self, value):\n",
    "        node = BSTNode(value, None)             #insert 함수. 동적으로 BSTNode 생성\n",
    "\n",
    "        if self.root is None:                          #root가 비어있으면? (가장 첫번째 insert면?)\n",
    "            self.root = node                           #자신이 root가 됨.\n",
    "        else:                                          #root가 비어있지 않다면?\n",
    "            self.root.insert(node)                     #root에 대해서 insert 수행\n",
    "\n",
    "        #insert가 끝나면, 해당 노드에 대한 height 지정 =>dynamic. 첫번째 노드 : left, right 둘다 None 따라서 max 의해서 0, + 1로 height 1로 지정\n",
    "        update_height(node)\n",
    "        return node                                    #return node하는 이유는 => rotate에서 필요. rotate 없으면 return 필요 x\n",
    "\n",
    "    def visualize(self, filename='tree'):\n",
    "        dot = Digraph(comment='Binary Search Tree')\n",
    "        self._add_nodes(dot, self.root)\n",
    "        dot.render(filename, format='png', cleanup=True)\n",
    "\n",
    "    def _add_nodes(self, dot, root):\n",
    "        if root:\n",
    "            dot.node(str(root.value))\n",
    "            if root.left:\n",
    "                dot.edge(str(root.value), str(root.left.value), label='L')\n",
    "                self._add_nodes(dot, root.left)\n",
    "            if root.right:\n",
    "                dot.edge(str(root.value), str(root.right.value), label='R')\n",
    "                self._add_nodes(dot, root.right)\n",
    "\n",
    "\n",
    "tree = BinarySearchTree()\n",
    "tree.insert(5)\n",
    "tree.insert(3)\n",
    "tree.insert(7)\n",
    "tree.insert(1)\n",
    "tree.insert(4)\n",
    "tree.insert(6)"
   ]
  },
  {
   "cell_type": "code",
   "execution_count": 31,
   "id": "31a6abb1",
   "metadata": {},
   "outputs": [
    {
     "data": {
      "image/png": "[encoded data removed]",
      "text/plain": [
       "<IPython.core.display.Image object>"
      ]
     },
     "metadata": {},
     "output_type": "display_data"
    }
   ],
   "source": [
    "from IPython.display import Image, display\n",
    " \n",
    "display(Image(filename='bst1.png'))"
   ]
  },
  {
   "cell_type": "markdown",
   "id": "50e36ef0",
   "metadata": {},
   "source": [
    "# 1. 위 tree는 balanced tree 인가? (AVL tree 관점에서 확인하시오) check balanced 등의 코드를 정의하여 코드로 확인하시오. (10점)"
   ]
  },
  {
   "cell_type": "code",
   "execution_count": 32,
   "id": "d62bb744-97bc-4e9b-b691-0a9e9501d9cf",
   "metadata": {},
   "outputs": [
    {
     "data": {
      "text/plain": [
       "\"True it's balanced\""
      ]
     },
     "execution_count": 32,
     "metadata": {},
     "output_type": "execute_result"
    }
   ],
   "source": [
    "def check_balance(node):\n",
    "    if node is None:            #노드가 비어있으면 바로 반환\n",
    "        return \"True it's balanced\" \n",
    "\n",
    "    left_right_height_diff = abs(height(node.left) - height(node.right))            #left와 right height의 차이를 절댓값으로 계산\n",
    "\n",
    "    if left_right_height_diff >= 2:     #해당 절댓값이 2이상이라면 unbalance..\n",
    "        return \"False it's not balanced\"\n",
    "\n",
    "    return check_balance(node.left) and check_balance(node.right)       #이후 해당 노드 밑으로 재귀. left와 right 존재 여부는 and로 처리\n",
    "\n",
    "check_balance(tree.root)"
   ]
  },
  {
   "cell_type": "code",
   "execution_count": 33,
   "id": "c8385288",
   "metadata": {},
   "outputs": [
    {
     "data": {
      "image/png": "[encoded data removed]",
      "text/plain": [
       "<IPython.core.display.Image object>"
      ]
     },
     "metadata": {},
     "output_type": "display_data"
    }
   ],
   "source": [
    "tree = BinarySearchTree()\n",
    "tree.insert(1)\n",
    "tree.insert(2)\n",
    "tree.insert(3)\n",
    "tree.insert(4)\n",
    " \n",
    "tree.visualize('bst2')\n",
    "display(Image(filename='bst2.png'))"
   ]
  },
  {
   "cell_type": "markdown",
   "id": "5c59dcc7",
   "metadata": {},
   "source": [
    "# 2. 위 tree는 balanced 인가? 1번과 같은 방법으로 확인하시오 (10점)"
   ]
  },
  {
   "cell_type": "code",
   "execution_count": 34,
   "id": "057682af",
   "metadata": {},
   "outputs": [
    {
     "name": "stdout",
     "output_type": "stream",
     "text": [
      "False it's not balanced\n"
     ]
    }
   ],
   "source": [
    "print(check_balance(tree.root))"
   ]
  },
  {
   "cell_type": "markdown",
   "id": "6f39a67f",
   "metadata": {},
   "source": [
    "# 3. 위 BST를 상속하여 AVL tree class를 만들고, insert를 1,2,3,4,... 15 순서대로 입력하고 rotation 이 총 몇번 수행되는지 출력하시오. 또한 최종 결과를 위와 같이 시각화 하시오 (30점)  "
   ]
  },
  {
   "cell_type": "code",
   "execution_count": 35,
   "id": "a71da334",
   "metadata": {},
   "outputs": [
    {
     "name": "stdout",
     "output_type": "stream",
     "text": [
      "1노드 대상 left rotate 발생\n",
      "3노드 대상 left rotate 발생\n",
      "2노드 대상 left rotate 발생\n",
      "5노드 대상 left rotate 발생\n",
      "7노드 대상 left rotate 발생\n",
      "6노드 대상 left rotate 발생\n",
      "9노드 대상 left rotate 발생\n",
      "4노드 대상 left rotate 발생\n",
      "11노드 대상 left rotate 발생\n",
      "10노드 대상 left rotate 발생\n",
      "13노드 대상 left rotate 발생\n"
     ]
    },
    {
     "data": {
      "image/png": "[encoded data removed]",
      "text/plain": [
       "<IPython.core.display.Image object>"
      ]
     },
     "metadata": {},
     "output_type": "display_data"
    },
    {
     "name": "stdout",
     "output_type": "stream",
     "text": [
      "11번 rotate 발생\n"
     ]
    }
   ],
   "source": [
    "class AVL(BinarySearchTree):\n",
    "    def __init__(self):\n",
    "        super().__init__()\n",
    "        self.rot_count = 0\n",
    "\n",
    "    def left_rotate(self, node):                #left rotate\n",
    "        x = node                                # x로 node 받기\n",
    "        y = x.right                             # x.right를 y로 저장\n",
    "        y.parent = x.parent                     # 일단 아무 조건 생각 없이 y와 x의 parent를 연결.\n",
    "        if y.parent is None:                    # 만약 y.parent가 None이라면 y는 root가 됨.\n",
    "            self.root = y\n",
    "        else:                                   # 아니라면\n",
    "            if y.parent.left is x:              # x가 x.parent의 left였는지 right였는지 따지는것이 중요함. 만약 left였다면 left로 y를 연결.\n",
    "                y.parent.left = y               # 이로써 y와 y.parent와의 linking 완료\n",
    "            elif y.parent.right is x:           #right인 경우\n",
    "                y.parent.right = y\n",
    "        x.right = y.left                        # x의 right에는 y의 left가 붙음. 왜냐면 y는 애초에 x의 right였으니.. y의 left는 전부 x보다 큼\n",
    "        if x.right is not None:                 #만약 x right가 None 이 아니라면 y.left가 잘 붙었다는 이야기이니. 그 parent를 x로 지정\n",
    "            x.right.parent = x\n",
    "        y.left = x                              # 이제 x와 y의 관계 정리.\n",
    "        x.parent = y\n",
    "        update_height(x)                        # rotate이후 height 업데이트\n",
    "        update_height(y)\n",
    "        print(f\"{node}노드 대상 left rotate 발생\")                 # rotate 발생 사실 알리기용\n",
    "        self.rot_count += 1                     #  rot_count 세기 위한..\n",
    "\n",
    "    def right_rotate(self, node):               #right Rotate는 left rotate와 동일 left랑 right만 변경\n",
    "        x = node\n",
    "        y = x.left\n",
    "        y.parent = x.parent\n",
    "        if y.parent is None:\n",
    "            self.root = y\n",
    "        else:\n",
    "            if y.parent.left is x:\n",
    "                y.parent.left = y\n",
    "            elif y.parent.right is x:\n",
    "                y.parent.right = y\n",
    "        x.left = y.right\n",
    "        if x.left is not None:\n",
    "            x.left.parent = x\n",
    "        y.right = x\n",
    "        x.parent = y\n",
    "        update_height(x)\n",
    "        update_height(y)\n",
    "        print(f\"{node}노드 대상 right rotate 발생\")\n",
    "        self.rot_count += 1\n",
    "        \n",
    "    # x가 처음으로 규칙을 위반했을때 => insert 할때마다 rebalance해주는거라 rotate는 최대 2번임.\n",
    "    def rebalanced(self, node):   \n",
    "        rot_count = 0\n",
    "        while node is not None:\n",
    "            if height(node.left) >= 2 + height(node.right):             # height_diff 쓰지 않는 이유 : unbalance가 left인지 right인지 check해야 하기 때문\n",
    "                if height(node.left.left) >= height(node.left.right):  # 이건 왼쪽으로 치우쳐진 경우중 일직선일때는 right rotate 한번만 해도 되는것임.\n",
    "                    self.right_rotate(node)\n",
    "                else:  # 왼쪽 치우쳐진 경우중 zigzag일때 left rotate후 right rotate.\n",
    "                    self.left_rotate(node.left)\n",
    "                    self.right_rotate(node)\n",
    "            elif height(node.right) >= 2 + height(node.left):  #반대. 오른쪽으로 치우쳐진 경우임.\n",
    "                if height(node.right.right) >= height(node.right.left):\n",
    "                    self.left_rotate(node)\n",
    "                else:\n",
    "                    self.right_rotate(node.right)\n",
    "                    self.left_rotate(node)\n",
    "\n",
    "            update_height(node)                                 #rebalance이후 update\n",
    "            node = node.parent                                  #leaf에서 root까지 rebalance. insert할때 항상 시행하기에 leaf 노드 부터 시작할것임.\n",
    "\n",
    "    def insert(self, k):                                        #insert 함수\n",
    "        node = super(AVL, self).insert(k)\n",
    "        self.rebalanced(node)\n",
    "\n",
    "tree = AVL()\n",
    "for i in range (1, 16):\n",
    "    tree.insert(i)\n",
    "\n",
    "tree.visualize('avl')\n",
    "display(Image(filename='avl.png'))\n",
    "print(f\"{tree.rot_count}번 rotate 발생\")"
   ]
  },
  {
   "cell_type": "markdown",
   "id": "4698b9fa",
   "metadata": {},
   "source": [
    "# 4. 위 문제를 insert 를 어떤 순서대로 넣었다면 rotation 이 한번도 발생하지 않을까? 임의의 insert 순서를 찾아서 보이시오 (20점)"
   ]
  },
  {
   "cell_type": "code",
   "execution_count": 27,
   "id": "909d0ac8",
   "metadata": {},
   "outputs": [
    {
     "name": "stdout",
     "output_type": "stream",
     "text": [
      "[8, 4, 12, 2, 6, 10, 14, 1, 3, 5, 7, 9, 11, 13, 15] 순서 insert 시 0번 rotate 발생\n"
     ]
    }
   ],
   "source": [
    "tree = AVL()\n",
    "no_rotate_insertion_order = [8, 4, 12, 2, 6, 10, 14, 1, 3, 5, 7, 9, 11, 13, 15]\n",
    "for i in no_rotate_insertion_order:\n",
    "    tree.insert(i)\n",
    "print(f\"{no_rotate_insertion_order} 순서 insert 시 {tree.rot_count}번 rotate 발생\")"
   ]
  },
  {
   "cell_type": "markdown",
   "id": "48f5b8ff",
   "metadata": {},
   "source": [
    "# 5. 위 4번 문제에서 영감을 얻어 정렬된 list가 있을 때, AVL tree가 아닌 BinarySearchTree 에서 balance된 tree를 만드는 함수를 만드시오 insert 순서를 조작하는 함수를 만들거나, left, right를 붙여나가는 함수를 recursive 하게 만들어도 됨. 잘 생각해보고,  [1,2,3,4,....15] 로 정렬된 list를 예시로 보여주시오 (30점) "
   ]
  },
  {
   "cell_type": "code",
   "execution_count": 25,
   "id": "bf0a723c",
   "metadata": {},
   "outputs": [
    {
     "name": "stdout",
     "output_type": "stream",
     "text": [
      "가공 list : [8, 4, 12, 2, 6, 10, 14, 1, 3, 5, 7, 9, 11, 13, 15]\n",
      "0번 rotate 발생\n"
     ]
    }
   ],
   "source": [
    "'''iterative way'''\n",
    "def make_balance_iterative(arr):\n",
    "    if not arr:                                 #arr에 아무것도 안들어있으면 반환\n",
    "        return []\n",
    "\n",
    "    balance_maintain_arr = []\n",
    "    start_end_list = [(0, len(arr) - 1)]        #start와 end를 tuple로 묶어서 저장\n",
    "\n",
    "    while start_end_list:                       #list에 있는 모든 tuple에 대한 mid 찾고 append 시킴\n",
    "        start, end = start_end_list.pop(0)      #첫번째 tuple에 대한 mid찾고 append시키기 시작\n",
    "        if start > end:                         #만약 start가 end보다 크다면 skip. 예외 관리하기 위함\n",
    "            continue\n",
    "\n",
    "        mid = (start + end) // 2                #tuple로 받은 start와 end 로 mid 찾기\n",
    "        balance_maintain_arr.append(arr[mid])                 #해당 값 저장\n",
    "        start_end_list.append((start, mid - 1))               # 저장 이후 자신 \"앞\"의 배열에 대한 start값과 end값 넘겨주기\n",
    "        start_end_list.append((mid + 1, end))                 # 저장 이후 자신 \"뒤\"의 배열에 대한 start값과 end값 넘겨주기\n",
    "\n",
    "    return balance_maintain_arr\n",
    "\n",
    "'''recursion way'''\n",
    "def make_balance_recursive(arr):\n",
    "    def BFS(start, end, depth, depth_based_arr):\n",
    "        if start > end:\n",
    "            return\n",
    "\n",
    "        mid = (start + end) // 2\n",
    "        if depth < len(depth_based_arr):             #기존 depth중에 있는 탐색을 하고 있다면, 알맞은 depth에 append.\n",
    "            depth_based_arr[depth].append(arr[mid])\n",
    "        else:\n",
    "            depth_based_arr.append([arr[mid]])       # 기존depth(len(depth_based_arr)) 보다 깊어진 탐색 시작했다면, 새로운 depth를 생성.\n",
    "\n",
    "        BFS(start, mid - 1, depth + 1, depth_based_arr)  #재귀. start부터 중간까지. depth 1 추가 => 1~7 사이의 중간값이 depth_based_arr의 depth:1 array에 추가됨.\n",
    "        BFS(mid + 1, end, depth + 1, depth_based_arr)    #재귀. 중간부터 end까지 depth 1 추가 => 8~15 사이의 중간값이 depth_based_arr의 depth:1 array에 추가됨\n",
    "\n",
    "    depth_based_arr = []                                 #depth_based_arr array 생성\n",
    "    BFS(0,len(arr) - 1, 0, depth_based_arr)  #초깃값 세팅\n",
    "    balance_maintain_arr = []                            #저장할 array 생성\n",
    "    for depth in depth_based_arr:                        #각 depth에 있는 array extend\n",
    "        balance_maintain_arr.extend(depth)\n",
    "    return balance_maintain_arr\n",
    "\n",
    "tree = AVL()\n",
    "arr = [x for x in range(1, 16)]\n",
    "print(f\"가공 list : {make_balance_iterative(arr)}\")\n",
    "no_rotate_insertion_order = make_balance_iterative(arr)\n",
    "for i in no_rotate_insertion_order:\n",
    "    tree.insert(i)\n",
    "print(f\"{tree.rot_count}번 rotate 발생\")"
   ]
  },
  {
   "cell_type": "code",
   "execution_count": null,
   "id": "94788a26-c92c-4b9f-99ed-7967a3c3b279",
   "metadata": {},
   "outputs": [],
   "source": []
  },
  {
   "cell_type": "code",
   "execution_count": null,
   "id": "b45c4a98-d12a-498b-8afc-79ff36f4173a",
   "metadata": {},
   "outputs": [],
   "source": []
  }
 ],
 "metadata": {
  "kernelspec": {
   "display_name": "Python 3 (ipykernel)",
   "language": "python",
   "name": "python3"
  },
  "language_info": {
   "codemirror_mode": {
    "name": "ipython",
    "version": 3
   },
   "file_extension": ".py",
   "mimetype": "text/x-python",
   "name": "python",
   "nbconvert_exporter": "python",
   "pygments_lexer": "ipython3",
   "version": "3.12.5"
  }
 },
 "nbformat": 4,
 "nbformat_minor": 5
}
